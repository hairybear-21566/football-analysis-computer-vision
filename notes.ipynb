{
 "cells": [
  {
   "cell_type": "markdown",
   "metadata": {},
   "source": [
    "## what is object detection\n",
    "just a Neural Network that can draw a bounding box around objects in a frame and can identify what said object is. A popular object detect library that one can use is YOLO\n",
    "\n",
    "run: `pip install ultralytics`"
   ]
  },
  {
   "cell_type": "markdown",
   "metadata": {},
   "source": []
  }
 ],
 "metadata": {
  "language_info": {
   "name": "python"
  }
 },
 "nbformat": 4,
 "nbformat_minor": 2
}
